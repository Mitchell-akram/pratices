
import numpy as np

input_list = [0, 1, 2, 3, 4, 5, 6, 7, 8]  # Renamed 'list' to 'input_list' to avoid shadowing built-in 'list'

def calculate(list):
    ls = np.array(list)
    print(ls)

    mean_row = [ls[0:3].mean(),ls[3:6].mean(), ls[6:9].mean()]              # Used slicing for array indexing
    mean_col = [ls[[0,3,6]].mean(),ls[[1,4,7]].mean(), ls[[2,5,8]].mean()]

    var_row = [ls[0:3].var(),ls[3:6].var(), ls[6:9].var()]              # Used slicing for array indexing
    var_col = [ls[[0,3,6]].var(),ls[[1,4,7]].var(), ls[[2,5,8]].var()]

    std_row = [ls[0:3].std(),ls[3:6].std(), ls[6:9].std()]              # Used slicing for array indexing
    std_col = [ls[[0,3,6]].std(),ls[[1,4,7]].std(), ls[[2,5,8]].std()]

    max_row = [ls[0:3].max(),ls[3:6].max(), ls[6:9].max()]              # Used slicing for array indexing
    max_col = [ls[[0,3,6]].max(),ls[[1,4,7]].max(), ls[[2,5,8]].max()]

    min_row = [ls[0:3].min(),ls[3:6].min(), ls[6:9].min()]              # Used slicing for array indexing
    min_col = [ls[[0,3,6]].min(),ls[[1,4,7]].min(), ls[[2,5,8]].min()]

    sum_row = [ls[0:3].sum(),ls[3:6].sum(), ls[6:9].sum()]              # Used slicing for array indexing
    sum_col = [ls[[0,3,6]].sum(),ls[[1,4,7]].sum(), ls[[2,5,8]].sum()]

    return {
        'mean': [mean_col, mean_row, ls.mean()],
        'variance': [var_col, var_row, ls.var()],
        'standard deviation': [std_col, std_row, ls.std()],
        'max': [max_col, max_row, ls.max()],
        'min': [min_col, min_row, ls.min()],
        'sum': [sum_col, sum_row, ls.sum()]

    }

result = calculate(input_list) # Call the function with the input list
print(result)
